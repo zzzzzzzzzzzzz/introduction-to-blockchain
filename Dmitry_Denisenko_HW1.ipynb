{
 "cells": [
  {
   "cell_type": "markdown",
   "metadata": {},
   "source": [
    "# Introduction to blockchain HW 1"
   ]
  },
  {
   "cell_type": "markdown",
   "metadata": {},
   "source": [
    "## Problem 1 (10 points)\n",
    "\n",
    "Assume that at the end of the term an instructor uses an RSA Public Key Cryptosystem to sign the grades sent to students and to the Education Office. He signs each grade with his private key and transmits both the grade and the signature in a secure manner encrypted with a public key. After you decrypt the message you use his public key to decipher the signature and verify the grade. Assume the cryptosystem has the following features: n=55, e=33 and that the grading system features integer grades from 0 to 10. You have received the grade-signature pairs 8||13 and 6||41"
   ]
  },
  {
   "cell_type": "markdown",
   "metadata": {},
   "source": [
    "1.Verify that the grades you received are indeed originating from the instructor showing just intermediate results of your calculation (2 points)"
   ]
  },
  {
   "cell_type": "markdown",
   "metadata": {},
   "source": [
    "To verify, we need to check this\n",
    "$$13^{33}\\  mod\\  55 =^? 8$$\n",
    "$$41^{33}\\  mod\\  55 =^? 6$$\n",
    "\n",
    "If we calculate it...\n",
    "We get $13^{33}\\  mod\\  55 = 8$ and $41^{33}\\  mod\\  55 = 6$.\n",
    "\n",
    "It means that signatures are correct"
   ]
  },
  {
   "cell_type": "markdown",
   "metadata": {},
   "source": [
    "2.Given the information above only can you fabricate the instructors’ signature for another grade? If yes, for which grade and how? (3 points)"
   ]
  },
  {
   "cell_type": "markdown",
   "metadata": {},
   "source": [
    "Any grade. See the code below"
   ]
  },
  {
   "cell_type": "code",
   "execution_count": 61,
   "metadata": {},
   "outputs": [
    {
     "name": "stdout",
     "output_type": "stream",
     "text": [
      "10\n",
      "CPU times: user 0 ns, sys: 0 ns, total: 0 ns\n",
      "Wall time: 1.13 ms\n"
     ]
    }
   ],
   "source": [
    "%%time\n",
    "s = 0\n",
    "while s**33 % 55 != 10:\n",
    "    s += 1\n",
    "print(s)"
   ]
  },
  {
   "cell_type": "markdown",
   "metadata": {},
   "source": [
    "It's even possible to find d value which was used for signing and generate any possible mark and signature faster"
   ]
  },
  {
   "cell_type": "markdown",
   "metadata": {},
   "source": [
    "So we know that\n",
    "$$(2^3)^d = 13\\ mod\\ 55$$\n",
    "$$2^d 3^d = 41\\ mod\\ 55$$\n",
    "This can be transformed to\n",
    "$$2^d(2^{2d}+3^d)\\ mod\\ 55 = 54$$\n",
    "Writing the simple cycle above we can get d value. So now we can easily generate new signatures."
   ]
  },
  {
   "cell_type": "code",
   "execution_count": 64,
   "metadata": {},
   "outputs": [
    {
     "name": "stdout",
     "output_type": "stream",
     "text": [
      "17\n",
      "CPU times: user 4 ms, sys: 0 ns, total: 4 ms\n",
      "Wall time: 1.95 ms\n"
     ]
    }
   ],
   "source": [
    "%%time\n",
    "for d in range(1,100):\n",
    "    if (2**d)*(2**(2*d)+3**d) % 55 == 54:\n",
    "        print(d)\n",
    "        break"
   ]
  },
  {
   "cell_type": "markdown",
   "metadata": {},
   "source": [
    "For example we need 9 grade\n",
    "$$9^{17}=(s_{new}^{33})^{17} = s_{new}\\ mod\\ 55$$\n",
    "Calculating $9^{17}\\ mod\\ 55$ we get $s_{new} = 4$. Using the name of our teacher we can send 9||4 pair."
   ]
  },
  {
   "cell_type": "code",
   "execution_count": 1,
   "metadata": {},
   "outputs": [
    {
     "data": {
      "text/plain": [
       "4"
      ]
     },
     "execution_count": 1,
     "metadata": {},
     "output_type": "execute_result"
    }
   ],
   "source": [
    "9**17 % 55"
   ]
  },
  {
   "cell_type": "markdown",
   "metadata": {},
   "source": [
    "##### 3.What would you advise the instructor to do so as to prevent such fabrication? (2 points)"
   ]
  },
  {
   "cell_type": "markdown",
   "metadata": {},
   "source": [
    "It's better to use bigger (way more bigger) numbers $N$ and $e$ to make this computational task not so easy"
   ]
  },
  {
   "cell_type": "markdown",
   "metadata": {},
   "source": [
    "4.Discuss what can go wrong in case the instructor sends a grade secretly by first enciphering it with a student’s public key, the signing it with his private key. Provide an example (3 points)"
   ]
  },
  {
   "cell_type": "markdown",
   "metadata": {},
   "source": [
    "For example. The grade is 6 and after enciphering this mark with student's public key we get value 51."
   ]
  },
  {
   "cell_type": "code",
   "execution_count": 8,
   "metadata": {},
   "outputs": [
    {
     "data": {
      "text/plain": [
       "51"
      ]
     },
     "execution_count": 8,
     "metadata": {},
     "output_type": "execute_result"
    }
   ],
   "source": [
    "6**33 % 55"
   ]
  },
  {
   "cell_type": "markdown",
   "metadata": {},
   "source": [
    "Next, let's create the signature with $d=17$. "
   ]
  },
  {
   "cell_type": "code",
   "execution_count": 9,
   "metadata": {},
   "outputs": [
    {
     "name": "stdout",
     "output_type": "stream",
     "text": [
      "6\n"
     ]
    }
   ],
   "source": [
    "s = 51**17 % 55\n",
    "print(s)"
   ]
  },
  {
   "cell_type": "markdown",
   "metadata": {},
   "source": [
    "So we've got the signature 6. And the pair after decryption by student will be 6 || 6"
   ]
  },
  {
   "cell_type": "markdown",
   "metadata": {},
   "source": [
    "The signature check will be true.\n",
    "\n",
    "Also, each pair will look like this 1 || 1, 2 || 2, 3 || 3 and so on, because\n",
    "$$\\forall x \\in Z_n,\\ x^{ed}\\ mod\\ n = x$$\n",
    "$$mark^{33}\\ mod\\ 55 = m$$\n",
    "$$m^{17}\\ mod\\ 55 = s^{17 \\cdot 33}\\ mod\\ 55 = m = s$$"
   ]
  },
  {
   "cell_type": "markdown",
   "metadata": {},
   "source": [
    "So, it would be easy to break these system"
   ]
  },
  {
   "cell_type": "markdown",
   "metadata": {},
   "source": [
    "## Problem 2 (10 points)"
   ]
  },
  {
   "cell_type": "markdown",
   "metadata": {},
   "source": [
    "El-Gamal is videly used cryptographic standart. In this task you will implement El-Gamal encryption scheme using Python"
   ]
  },
  {
   "cell_type": "markdown",
   "metadata": {},
   "source": [
    "1.Implement function for generating keys. The function must generate big random prime number (problem of generating big prime numbers was discussed during seminar after lecture 3). (2 points)"
   ]
  },
  {
   "cell_type": "code",
   "execution_count": 41,
   "metadata": {},
   "outputs": [],
   "source": [
    "from math import sqrt\n",
    "from random import getrandbits, randrange\n",
    "\n",
    "def gcd(a, b): \n",
    "    if (a == 0): \n",
    "        return b \n",
    "    return gcd(b % a, a) \n",
    "\n",
    "def phi(n):   \n",
    "    result = 1\n",
    "    for i in range(2, n): \n",
    "        if (gcd(i, n) == 1): \n",
    "            result+=1\n",
    "    return result \n",
    "\n",
    "def powmod(base, degree, module):\n",
    "    degree = bin(degree)[2:]\n",
    "    r = 1\n",
    " \n",
    "    for i in range(len(degree) - 1, -1, -1):\n",
    "        r = (r * base ** int(degree[i])) % module\n",
    "        base = (base ** 2) % module\n",
    " \n",
    "    return r\n",
    " \n",
    "    \n",
    "def get_g_2(p):\n",
    "    fact = []\n",
    "    # phi_value = phi(p)\n",
    "    phi_value = p - 1\n",
    "    n = phi_value\n",
    "    i = 2\n",
    "    while i*i <= n:\n",
    "        if n % i == 0:\n",
    "            fact.append(i)\n",
    "            while n % i == 0:\n",
    "                n /= i\n",
    "        i += 1\n",
    "                        \n",
    "    if n > 1:\n",
    "        fact.append(n)\n",
    "    \n",
    "    res = 2\n",
    "    while res <= p:\n",
    "        if gcd(res, n) == 1:\n",
    "            ok = True\n",
    "            i = 0\n",
    "            while (i < len(fact)) and ok:\n",
    "                ok &= (powmod(int(res), int(phi_value / fact[i]), int(p)) != 1)\n",
    "                i += 1\n",
    "            if ok:\n",
    "                return res\n",
    "        res += 1\n",
    "    return -1;\n",
    "\n",
    "def get_g(modulo):\n",
    "    g = 1\n",
    "    phi_value = phi(modulo)\n",
    "    while True:\n",
    "        for i in range(1, phi_value + 1):\n",
    "            if g**i % modulo == 1:\n",
    "                if i == phi_value:\n",
    "                    return g\n",
    "                else:\n",
    "                    break\n",
    "        g += 1\n",
    "\n",
    "def prime_test(n, k=128):\n",
    "    if n == 2 or n == 3:\n",
    "        return True\n",
    "    if n <= 1 or n % 2 == 0:\n",
    "        return False\n",
    "    # find r and s\n",
    "    s = 0\n",
    "    r = n - 1\n",
    "    while r & 1 == 0:\n",
    "        s += 1\n",
    "        r //= 2\n",
    "    # do k tests\n",
    "    for _ in range(k):\n",
    "        a = randrange(2, n - 1)\n",
    "        x = pow(a, r, n)\n",
    "        if x != 1 and x != n - 1:\n",
    "            j = 1\n",
    "            while j < s and x != n - 1:\n",
    "                x = pow(x, 2, n)\n",
    "                if x == 1:\n",
    "                    return False\n",
    "                j += 1\n",
    "            if x != n - 1:\n",
    "                return False\n",
    "    return True\n",
    "\n",
    "def generate_prime_candidate(length):\n",
    "    p = getrandbits(length)\n",
    "    p |= (1 << length - 1) | 1 # big and not even\n",
    "    return p\n",
    "\n",
    "def generate_prime_number(length=1024):\n",
    "    p = 4\n",
    "    while not prime_test(p, 128):\n",
    "        p = generate_prime_candidate(length)\n",
    "    return p"
   ]
  },
  {
   "cell_type": "markdown",
   "metadata": {},
   "source": [
    "2.Implement functions that realize the encryption and decryption functions. (2 points)"
   ]
  },
  {
   "cell_type": "code",
   "execution_count": 42,
   "metadata": {},
   "outputs": [],
   "source": [
    "from random import randint\n",
    "\n",
    "def encrypt(mes, prime, public, g): # y is public key\n",
    "    K = randint(2, prime-2)\n",
    "    return powmod(g, K, prime), (powmod(public,K, prime)*mes) % prime # a and b\n",
    "\n",
    "\n",
    "def decrypt(private, prime, a, b):\n",
    "    return b*powmod(a, prime-1-private, prime) % prime"
   ]
  },
  {
   "cell_type": "markdown",
   "metadata": {},
   "source": [
    "3.Test your functions on random values and show that your realization works correctly (1 point)"
   ]
  },
  {
   "cell_type": "code",
   "execution_count": 59,
   "metadata": {},
   "outputs": [
    {
     "name": "stdout",
     "output_type": "stream",
     "text": [
      "New prime number 91232401780399592906967034025840779293640230858008585237595362343192089341155435194883646296258249272668847154312981079314746452631367862490010550053529263413209523184563644995153016772026532218757711882800053603932293303189686887536531959079524020731447286362224344786067270475444031526551861537609634871943\n",
      "CPU times: user 1.66 s, sys: 4 ms, total: 1.66 s\n",
      "Wall time: 1.66 s\n"
     ]
    }
   ],
   "source": [
    "%%time\n",
    "prime_number = generate_prime_number(1024)\n",
    "print(\"New prime number {}\".format(prime_number))"
   ]
  },
  {
   "cell_type": "code",
   "execution_count": 60,
   "metadata": {},
   "outputs": [],
   "source": [
    "g = get_g_2(prime_number)"
   ]
  },
  {
   "cell_type": "code",
   "execution_count": 62,
   "metadata": {},
   "outputs": [],
   "source": [
    "private_key = randint(2, prime_number-2)"
   ]
  },
  {
   "cell_type": "code",
   "execution_count": 63,
   "metadata": {},
   "outputs": [],
   "source": [
    "public_key = powmod(g, private_key, prime_number)"
   ]
  },
  {
   "cell_type": "code",
   "execution_count": 64,
   "metadata": {},
   "outputs": [
    {
     "name": "stdout",
     "output_type": "stream",
     "text": [
      "Original message 48539575452135382874411192673377751191733672100013635659068525818200074173891712487499894218858415209181288585431633509326444940603037068479554801571215021652533908242283390868119939334349234619044663780561452778047146622761646031271919050413076331257857022423682459228376671764805830146875733402248048661313\n",
      "After enctyption 30020476051753792500002707213007879596487269038025949322244867954445693946518586981748313395816035330939835288993453924767868597867446915945246181703557966871583425666238517621271079910383429710460343833861371024358344705130811208693464221444798737312279146416577266266753940370590221728232755832889651957462 11814762548971407916823549565348814460561450310300354254894172077382192182665759187288104346847666411902561090404177410636079642493978535078472755736811112366204376351721729944338167439206468996516987220527625315754703071155894842695129776707376494414708920183358686522604131593649793379812348320332710820008\n",
      "Decrypted result 48539575452135382874411192673377751191733672100013635659068525818200074173891712487499894218858415209181288585431633509326444940603037068479554801571215021652533908242283390868119939334349234619044663780561452778047146622761646031271919050413076331257857022423682459228376671764805830146875733402248048661313\n",
      "The process is True\n"
     ]
    }
   ],
   "source": [
    "message = randint(1,prime_number)\n",
    "print(\"Original message {}\".format(message))\n",
    "a,b = encrypt(message, prime_number, public_key, g)\n",
    "print(\"After enctyption {} {}\".format(a,b))\n",
    "decrypted = decrypt(private_key, prime_number, a, b)\n",
    "print(\"Decrypted result {}\".format(decrypted))\n",
    "print(\"The process is {}\".format(message == decrypted))"
   ]
  },
  {
   "cell_type": "markdown",
   "metadata": {},
   "source": [
    "4.Implement functions that realize creation and verification of digital signature (2 points)"
   ]
  },
  {
   "cell_type": "code",
   "execution_count": 92,
   "metadata": {},
   "outputs": [],
   "source": [
    "def myhash(val):\n",
    "    return val\n",
    "\n",
    "\n",
    "def egcd(a, b):\n",
    "    if a == 0:\n",
    "        return (b, 0, 1)\n",
    "    else:\n",
    "        g, x, y = egcd(b % a, a)\n",
    "        return (g, y - (b // a) * x, x)\n",
    " \n",
    "\n",
    "def find_inverse(b, n):\n",
    "    g, x, _ = egcd(b, n)\n",
    "    if g == 1:\n",
    "        return x % n\n",
    "\n",
    "\n",
    "def create_signature(message, prime, private_key):\n",
    "    hsum = myhash(message)\n",
    "    k = prime - 1\n",
    "    while gcd(k, prime-1) != 1:\n",
    "        k = randint(2, prime-2)\n",
    "    r = powmod(g, k, prime)\n",
    "    s = (hsum-private_key*r)*find_inverse(k, prime - 1) % (prime - 1)\n",
    "    return r,s\n",
    "\n",
    "\n",
    "def verify_signature(message, p,g,y,r,s): # message расшифрованное уже,(p,g,y) открытый ключ, r,s - подпись \n",
    "    if not (((r > 0) and (r < p)) and ((s > 0) and (s < p-1))):\n",
    "        return False\n",
    "    else:\n",
    "        m = myhash(message)\n",
    "        if (powmod(y, r, p)*powmod(r, s, p) % p) == powmod(g, m, p):\n",
    "            return True\n",
    "        else:\n",
    "            return False"
   ]
  },
  {
   "cell_type": "markdown",
   "metadata": {},
   "source": [
    "5.Test your functions on random values and show that your algorithm works correctly (1 point)"
   ]
  },
  {
   "cell_type": "code",
   "execution_count": 93,
   "metadata": {},
   "outputs": [
    {
     "name": "stdout",
     "output_type": "stream",
     "text": [
      "10550172429920474504965971602654993122711029789027853163629038243724030110429433900764048943862885088304063202484390549938869429742755647983151465935707559013207564723414028139891182526186277758144100428017644900466875438220177077931424317967952111622677509033942251612438190764733264157683247247910968367451 49497411133002414594975372912788904235068543382240511229326517382303941454929273180482433114540998196107549453502080985260938034674821870308757822156112879152864645208731284221908389470629746113867200222420123078261462366120609560683919736144035965613377927291191430365489913500252297728351811058786530907821\n",
      "True\n"
     ]
    }
   ],
   "source": [
    "r,s = create_signature(message, prime_number, private_key)\n",
    "print(r,s)\n",
    "print(verify_signature(message, prime_number, g, public_key, r, s))"
   ]
  },
  {
   "cell_type": "markdown",
   "metadata": {},
   "source": [
    "## Problem 3 (15 points)"
   ]
  },
  {
   "cell_type": "markdown",
   "metadata": {},
   "source": [
    "1.Implement SHA256 (https://en.wikipedia.org/wiki/SHA-2) hashing algorithm using the pseudo-code below. Note the great increase in mixing between bits of the w[16..63] words compared to SHA-1 (10 points)"
   ]
  },
  {
   "cell_type": "raw",
   "metadata": {},
   "source": [
    "73463300Note 1: All variables are 32 bit unsigned integers and addition is done modulo 2^32\n",
    "Note 2: For each round, there is one round constant k[i] and one entry in the message schedule array w[i], 0 ≤ i ≤ 63\n",
    "Note 3: The compression function uses 8 working variables, a through h\n",
    "Note 4: Big-endian convention is used when expressing the constants in this pseudocode,\n",
    "    and when parsing message block data from bytes to words, for example,\n",
    "    the first word of the input message \"abc\" after padding is 0x61626380\n",
    "\n",
    "Initialize hash values:\n",
    "(first 32 bits of the fractional parts of the square roots of the first 8 primes 2..19):\n",
    "h0 := 0x6a09e667\n",
    "h1 := 0xbb67ae85\n",
    "h2 := 0x3c6ef372\n",
    "h3 := 0xa54ff53a\n",
    "h4 := 0x510e527f\n",
    "h5 := 0x9b05688c\n",
    "h6 := 0x1f83d9ab\n",
    "h7 := 0x5be0cd19\n",
    "\n",
    "Initialize array of round constants:\n",
    "(first 32 bits of the fractional parts of the cube roots of the first 64 primes 2..311):\n",
    "k[0..63] :=\n",
    "   0x428a2f98, 0x71374491, 0xb5c0fbcf, 0xe9b5dba5, 0x3956c25b, 0x59f111f1, 0x923f82a4, 0xab1c5ed5,\n",
    "   0xd807aa98, 0x12835b01, 0x243185be, 0x550c7dc3, 0x72be5d74, 0x80deb1fe, 0x9bdc06a7, 0xc19bf174,\n",
    "   0xe49b69c1, 0xefbe4786, 0x0fc19dc6, 0x240ca1cc, 0x2de92c6f, 0x4a7484aa, 0x5cb0a9dc, 0x76f988da,\n",
    "   0x983e5152, 0xa831c66d, 0xb00327c8, 0xbf597fc7, 0xc6e00bf3, 0xd5a79147, 0x06ca6351, 0x14292967,\n",
    "   0x27b70a85, 0x2e1b2138, 0x4d2c6dfc, 0x53380d13, 0x650a7354, 0x766a0abb, 0x81c2c92e, 0x92722c85,\n",
    "   0xa2bfe8a1, 0xa81a664b, 0xc24b8b70, 0xc76c51a3, 0xd192e819, 0xd6990624, 0xf40e3585, 0x106aa070,\n",
    "   0x19a4c116, 0x1e376c08, 0x2748774c, 0x34b0bcb5, 0x391c0cb3, 0x4ed8aa4a, 0x5b9cca4f, 0x682e6ff3,\n",
    "   0x748f82ee, 0x78a5636f, 0x84c87814, 0x8cc70208, 0x90befffa, 0xa4506ceb, 0xbef9a3f7, 0xc67178f2\n",
    "\n",
    "Pre-processing (Padding):\n",
    "begin with the original message of length L bits\n",
    "append a single '1' bit\n",
    "append K '0' bits, where K is the minimum number >= 0 such that L + 1 + K + 64 is a multiple of 512\n",
    "append L as a 64-bit big-endian integer, making the total post-processed length a multiple of 512 bits\n",
    "\n",
    "Process the message in successive 512-bit chunks:\n",
    "break message into 512-bit chunks\n",
    "for each chunk\n",
    "    create a 64-entry message schedule array w[0..63] of 32-bit words\n",
    "    (The initial values in w[0..63] don't matter, so many implementations zero them here)\n",
    "    copy chunk into first 16 words w[0..15] of the message schedule array\n",
    "\n",
    "    Extend the first 16 words into the remaining 48 words w[16..63] of the message schedule array:\n",
    "    for i from 16 to 63\n",
    "        s0 := (w[i-15] rightrotate 7) xor (w[i-15] rightrotate 18) xor (w[i-15] rightshift 3)\n",
    "        s1 := (w[i-2] rightrotate 17) xor (w[i-2] rightrotate 19) xor (w[i-2] rightshift 10)\n",
    "        w[i] := w[i-16] + s0 + w[i-7] + s1\n",
    "\n",
    "    Initialize working variables to current hash value:\n",
    "    a := h0\n",
    "    b := h1\n",
    "    c := h2\n",
    "    d := h3\n",
    "    e := h4\n",
    "    f := h5\n",
    "    g := h6\n",
    "    h := h7\n",
    "\n",
    "    Compression function main loop:\n",
    "    for i from 0 to 63\n",
    "        S1 := (e rightrotate 6) xor (e rightrotate 11) xor (e rightrotate 25)\n",
    "        ch := (e and f) xor ((not e) and g)\n",
    "        temp1 := h + S1 + ch + k[i] + w[i]\n",
    "        S0 := (a rightrotate 2) xor (a rightrotate 13) xor (a rightrotate 22)\n",
    "        maj := (a and b) xor (a and c) xor (b and c)\n",
    "        temp2 := S0 + maj\n",
    " \n",
    "        h := g\n",
    "        g := f\n",
    "        f := e\n",
    "        e := d + temp1\n",
    "        d := c\n",
    "        c := b\n",
    "        b := a\n",
    "        a := temp1 + temp2\n",
    "\n",
    "    Add the compressed chunk to the current hash value:\n",
    "    h0 := h0 + a\n",
    "    h1 := h1 + b\n",
    "    h2 := h2 + c\n",
    "    h3 := h3 + d\n",
    "    h4 := h4 + e\n",
    "    h5 := h5 + f\n",
    "    h6 := h6 + g\n",
    "    h7 := h7 + h\n",
    "\n",
    "Produce the final hash value (big-endian):\n",
    "digest := hash := h0 append h1 append h2 append h3 append h4 append h5 append h6 append h7"
   ]
  },
  {
   "cell_type": "code",
   "execution_count": 555,
   "metadata": {},
   "outputs": [],
   "source": [
    "INT_BYTES = 4\n",
    "BITS_IN_INT = 8\n",
    "\n",
    "def unsigned_not(s): # integer in bits string\n",
    "    res = ''\n",
    "    for elem in s:\n",
    "        if elem == '1':\n",
    "            res += '0'\n",
    "        if elem == '0':\n",
    "            res += '1'\n",
    "            \n",
    "    return res\n",
    "            \n",
    "def bit_str_array(s):\n",
    "    res = []\n",
    "    for symbol in s:\n",
    "        not_prepended = \"{0:b}\".format(ord(symbol))\n",
    "        prepended = not_prepended\n",
    "        while len(prepended) != INT_BYTES * BITS_IN_INT:\n",
    "            prepended = '0' + prepended\n",
    "        res.append(prepended)\n",
    "    if res:\n",
    "        return res\n",
    "    else:\n",
    "        return [''.join(['0' for i in range(INT_BYTES * BITS_IN_INT)])]\n",
    "\n",
    "\n",
    "INT_BITS = INT_BYTES * BITS_IN_INT\n",
    "\n",
    "\n",
    "def rightRotate(n, d): \n",
    "    return (n >> d)|(n << (INT_BITS - d)) & 0xFFFFFFFF\n",
    "\n",
    "    \n",
    "def h(message):    \n",
    "    h0 = 0x6a09e667\n",
    "    h1 = 0xbb67ae85\n",
    "    h2 = 0x3c6ef372\n",
    "    h3 = 0xa54ff53a\n",
    "    h4 = 0x510e527f\n",
    "    h5 = 0x9b05688c\n",
    "    h6 = 0x1f83d9ab\n",
    "    h7 = 0x5be0cd19\n",
    "\n",
    "    k = [\n",
    "       0x428a2f98, 0x71374491, 0xb5c0fbcf, 0xe9b5dba5, 0x3956c25b, 0x59f111f1, 0x923f82a4, 0xab1c5ed5,\n",
    "       0xd807aa98, 0x12835b01, 0x243185be, 0x550c7dc3, 0x72be5d74, 0x80deb1fe, 0x9bdc06a7, 0xc19bf174,\n",
    "       0xe49b69c1, 0xefbe4786, 0x0fc19dc6, 0x240ca1cc, 0x2de92c6f, 0x4a7484aa, 0x5cb0a9dc, 0x76f988da,\n",
    "       0x983e5152, 0xa831c66d, 0xb00327c8, 0xbf597fc7, 0xc6e00bf3, 0xd5a79147, 0x06ca6351, 0x14292967,\n",
    "       0x27b70a85, 0x2e1b2138, 0x4d2c6dfc, 0x53380d13, 0x650a7354, 0x766a0abb, 0x81c2c92e, 0x92722c85,\n",
    "       0xa2bfe8a1, 0xa81a664b, 0xc24b8b70, 0xc76c51a3, 0xd192e819, 0xd6990624, 0xf40e3585, 0x106aa070,\n",
    "       0x19a4c116, 0x1e376c08, 0x2748774c, 0x34b0bcb5, 0x391c0cb3, 0x4ed8aa4a, 0x5b9cca4f, 0x682e6ff3,\n",
    "       0x748f82ee, 0x78a5636f, 0x84c87814, 0x8cc70208, 0x90befffa, 0xa4506ceb, 0xbef9a3f7, 0xc67178f2]\n",
    "\n",
    "    number_of_bits_in_message = len(message) * INT_BYTES * BITS_IN_INT\n",
    "    bitarr = bit_str_array(message)\n",
    "    modified_mes = ''\n",
    "    for elem in bitarr:\n",
    "        modified_mes += elem\n",
    "\n",
    "    modified_mes += '1'\n",
    "    \n",
    "    K = 0\n",
    "    while (number_of_bits_in_message + 1 + K) % 512 != 448:\n",
    "        K += 1\n",
    "\n",
    "    modified_mes += ''.join(['0' for i in range(K)])\n",
    "\n",
    "    mes_len_in_64_bits = '{0:b}'.format(len(message))\n",
    "    while len(mes_len_in_64_bits) != 64:\n",
    "        mes_len_in_64_bits = '0' + mes_len_in_64_bits\n",
    "\n",
    "    modified_mes += mes_len_in_64_bits\n",
    "    for i in range(0, len(modified_mes), 512):\n",
    "        modified_message_slice = modified_mes[i:i+512]\n",
    "        w = []\n",
    "        \n",
    "        for z in range(0, len(modified_message_slice), 32):\n",
    "            w.append(modified_message_slice[z:z+32])\n",
    "        \n",
    "        for idx in range(len(w)):\n",
    "            w[idx] = int(w[idx], 2)\n",
    "        \n",
    "        while len(w) != 64:\n",
    "            w.append(0)\n",
    "\n",
    "        for j in range(16, 64):\n",
    "            s0 = (rightRotate(w[j-15], 7) ^ rightRotate(w[j-15], 18) ^ (w[j-15] >> 3))\n",
    "            s1 = (rightRotate(w[j-2], 17) ^ rightRotate(w[j-2], 19) ^ (w[j-2] >> 10))\n",
    "            w[j] = (w[j-16] + s0 + w[j-7] + s1) & 0xffffffff \n",
    "\n",
    "        a = h0\n",
    "        b = h1\n",
    "        c = h2\n",
    "        d = h3\n",
    "        e = h4\n",
    "        f = h5\n",
    "        g = h6\n",
    "        h = h7\n",
    "\n",
    "        for z in range(64):\n",
    "            s1 = rightRotate(e, 6) ^ rightRotate(e, 11) ^ rightRotate(e, 25)\n",
    "            ch = (e & f) ^ (int(unsigned_not('{0:b}'.format(e)),2) & g)\n",
    "            temp1 = (h + s1 + ch + k[z] + w[z]) & 0xffffffff\n",
    "            s0 = rightRotate(a, 2) ^ rightRotate(a, 13) ^ rightRotate(a, 22)\n",
    "            maj = (a & b) ^ (a & c) ^ (b & c)\n",
    "            temp2 = (s0 + maj) & 0xffffffff\n",
    "            \n",
    "            h = g\n",
    "            g = f\n",
    "            f = e\n",
    "            e = (d + temp1) & 0xffffffff\n",
    "            d = c\n",
    "            c = b\n",
    "            b = a\n",
    "            a = (temp1 + temp2) & 0xffffffff\n",
    "\n",
    "        h0 = (h0 + a) & 0xffffffff \n",
    "        h1 = (h1 + b) & 0xffffffff \n",
    "        h2 = (h2 + c) & 0xffffffff \n",
    "        h3 = (h3 + d) & 0xffffffff \n",
    "        h4 = (h4 + e) & 0xffffffff \n",
    "        h5 = (h5 + f) & 0xffffffff \n",
    "        h6 = (h6 + g) & 0xffffffff \n",
    "        h7 = (h7 + h) & 0xffffffff \n",
    "\n",
    "    hbits = [\n",
    "        '{0:b}'.format(h0),\n",
    "        '{0:b}'.format(h1),\n",
    "        '{0:b}'.format(h2),\n",
    "        '{0:b}'.format(h3),\n",
    "        '{0:b}'.format(h4),\n",
    "        '{0:b}'.format(h5),\n",
    "        '{0:b}'.format(h6),\n",
    "        '{0:b}'.format(h7)\n",
    "    ]\n",
    "    adjusted = []\n",
    "    for elem in hbits:\n",
    "        while len(elem) != 32:\n",
    "            elem = '0' + elem\n",
    "        adjusted.append(elem)\n",
    "\n",
    "    digest = ''.join(adjusted)\n",
    "    integer_digest = int(digest, 2)\n",
    "    return digest, hex(integer_digest)"
   ]
  },
  {
   "cell_type": "markdown",
   "metadata": {},
   "source": [
    "2.Calculate hashes of the texts below (1 point)"
   ]
  },
  {
   "cell_type": "code",
   "execution_count": 556,
   "metadata": {},
   "outputs": [],
   "source": [
    "string_small = 'This is a very small string with a few characters.'\n",
    "string_larger = 'This is a larger string that contains more characters.'\n",
    "string_big = 'This is a larger string that contains more characters. This demonstrates that no matter how big the input stream is, the generated hash is the same size (but of course, not the same value). If two files have a different hash, they surely contain different data.'\n",
    "string_empty = ''"
   ]
  },
  {
   "cell_type": "code",
   "execution_count": 557,
   "metadata": {},
   "outputs": [
    {
     "name": "stdout",
     "output_type": "stream",
     "text": [
      "0x6365f027ebc0a275cc0a6b0f2fe7ad76cd50276213443a13819945ac2de15cca\n",
      "0xa34daee8eecb351a18542d4f328ef24cde4f7a7d35afcea672ab1e314def51f8\n",
      "0x5c78960e579e64ea656ab52e43198cbdfbebcc311afb010fffcad724e36806a0\n",
      "0x798b854dd5cba1a92690586658c2cf031633e800d02c718f9f7490a2b05095ee\n"
     ]
    }
   ],
   "source": [
    "print(h(string_small)[1])\n",
    "print(h(string_larger)[1])\n",
    "print(h(string_big)[1])\n",
    "print(h(string_empty)[1])"
   ]
  },
  {
   "cell_type": "markdown",
   "metadata": {},
   "source": [
    "3.What is a bit length of each hash? (1 point)"
   ]
  },
  {
   "cell_type": "markdown",
   "metadata": {
    "collapsed": true
   },
   "source": [
    "256"
   ]
  },
  {
   "cell_type": "markdown",
   "metadata": {},
   "source": [
    "4.What is the bitwise distance between them? What is bitwise distance between their hashes? (1 point)"
   ]
  },
  {
   "cell_type": "code",
   "execution_count": 558,
   "metadata": {},
   "outputs": [
    {
     "name": "stdout",
     "output_type": "stream",
     "text": [
      "string_small|string_larger. Distance 125\n",
      "string_small|string_big. Distance 858\n",
      "string_small|string_empty. Distance 178\n",
      "string_larger|string_big. Distance 733\n",
      "string_larger|string_empty. Distance 197\n",
      "string_big|string_empty. Distance 930\n",
      "string_small_hash|string_larger_hash. Distance 129\n",
      "string_small_hash|string_big_hash. Distance 137\n",
      "string_small_hash|string_empty_hash. Distance 134\n",
      "string_larger_hash|string_big_hash. Distance 136\n",
      "string_larger_hash|string_empty_hash. Distance 139\n",
      "string_big_hash|string_empty_hash. Distance 123\n"
     ]
    }
   ],
   "source": [
    "from itertools import combinations\n",
    "\n",
    "\n",
    "\n",
    "for comb in combinations([('string_small', ''.join(bit_str_array(string_small))), \n",
    "                            ('string_larger', ''.join(bit_str_array(string_larger))),\n",
    "                            ('string_big', ''.join(bit_str_array(string_big))),\n",
    "                            ('string_empty', ''.join(bit_str_array(string_empty)))],2):\n",
    "    dist = 0\n",
    "    maxlen = max([len(comb[0][1]), len(comb[1][1])])\n",
    "    \n",
    "    a = comb[0][1]\n",
    "    while len(a) != maxlen:\n",
    "        a += '0'\n",
    "    b = comb[1][1]\n",
    "    while len(b) != maxlen:\n",
    "        b += '0'\n",
    "        \n",
    "    for idx in range(maxlen):\n",
    "        if a[idx] != b[idx]:\n",
    "            dist += 1\n",
    "            \n",
    "    print(\"{}|{}. Distance {}\".format(comb[0][0], comb[1][0], dist))\n",
    "\n",
    "\n",
    "for comb in combinations([('string_small_hash', h(string_small)[0]), \n",
    "                            ('string_larger_hash', h(string_larger)[0]),\n",
    "                            ('string_big_hash', h(string_big)[0]),\n",
    "                            ('string_empty_hash', h(string_empty)[0])],2):\n",
    "    dist = 0\n",
    "    for idx in range(256):\n",
    "        if comb[0][1][idx] != comb[1][1][idx]:\n",
    "            dist += 1\n",
    "    print(\"{}|{}. Distance {}\".format(comb[0][0], comb[1][0], dist))"
   ]
  },
  {
   "cell_type": "markdown",
   "metadata": {},
   "source": [
    "5.Typically use apply hash function to our passwords and texts that we want to digitally sign. Implement digital signature of hashed string using El-Gamal digital signature. Compare the digital signature of pain text and hashed text. (2 points)"
   ]
  },
  {
   "cell_type": "code",
   "execution_count": 559,
   "metadata": {},
   "outputs": [
    {
     "name": "stdout",
     "output_type": "stream",
     "text": [
      "25050570410845749308776732517010144560682448931608645733600420423327244023779254584695598915996292572772709658076184400720843556307970819431916146843943948840730286491167028862583416984251678245119051558239972844383307002640275758498817054285016216311013334414522690589048903549780214193887034167406939811856 33819612555556953076119488869286248249044807956678348141108950193810926584564639799303304845801050048295136059484651584095624537193889657695083438550036558510052480156359605230316148889414148638102548352294976091650597796120953857553161340661842398197719177001068218269479020813855273406571394225918695638782\n",
      "True\n"
     ]
    }
   ],
   "source": [
    "r,s = create_signature(int(''.join(bit_str_array(string_big)),2), prime_number, private_key)\n",
    "print(r,s)\n",
    "print(verify_signature(int(''.join(bit_str_array(string_big)),2), prime_number, g, public_key, r, s))"
   ]
  },
  {
   "cell_type": "code",
   "execution_count": 560,
   "metadata": {},
   "outputs": [
    {
     "name": "stdout",
     "output_type": "stream",
     "text": [
      "89985447853231801004433189094994703360864123131307361244230641073640730592543753865201038116181498509509069152262896011354943242306728177743179836333282597924900464640508290869229603234063699144563639800321414635456806053639062662388065467342756468089938804074743921300543396094130746899347709683679611992007 48912606636108024748712289400156161694440221071422497716671808974873528790167346413833795026204530836676771218869780697024658593808285541614840749960123521197981514821078529010496227592688768290521455639320169789152328046450306462836898774113342206429804427742280606925407545595981896270567457120615003396646\n",
      "True\n"
     ]
    }
   ],
   "source": [
    "r,s = create_signature(int(h(''.join(bit_str_array(string_big)))[1],16), prime_number, private_key)\n",
    "print(r,s)\n",
    "print(verify_signature(int(h(''.join(bit_str_array(string_big)))[1],16), prime_number, g, public_key, r, s))"
   ]
  },
  {
   "cell_type": "markdown",
   "metadata": {},
   "source": [
    "It seems like they are different. Suppose this is good"
   ]
  },
  {
   "cell_type": "markdown",
   "metadata": {},
   "source": [
    "## Problem 4 (15 points)"
   ]
  },
  {
   "cell_type": "markdown",
   "metadata": {},
   "source": [
    "Merkle hash trees play an important role in forming transaction blocks in blockchain. In this assignment we ask you to plot your own Merkle hash tree and check its' properties. Below we provide you with some code fragment what you can use in your assignment"
   ]
  },
  {
   "cell_type": "code",
   "execution_count": 100,
   "metadata": {},
   "outputs": [],
   "source": [
    "import matplotlib\n",
    "import networkx as nx\n",
    "%matplotlib qt5\n",
    "from networkx import balanced_tree, draw_networkx, draw"
   ]
  },
  {
   "cell_type": "markdown",
   "metadata": {},
   "source": [
    "Let us plot graph basis for Merkle hash tree"
   ]
  },
  {
   "cell_type": "code",
   "execution_count": 188,
   "metadata": {},
   "outputs": [
    {
     "name": "stderr",
     "output_type": "stream",
     "text": [
      "/home/dmitriy/MyEnv/other/skoltech/intro-to-blockchain/env/lib/python3.5/site-packages/networkx/drawing/nx_pylab.py:611: MatplotlibDeprecationWarning: isinstance(..., numbers.Number)\n",
      "  if cb.is_numlike(alpha):\n"
     ]
    },
    {
     "data": {
      "text/plain": [
       "{0: Text(0, 4, '0'),\n",
       " 1: Text(-2, 3, '1'),\n",
       " 2: Text(2, 3, '2'),\n",
       " 3: Text(-3, 2, '3'),\n",
       " 4: Text(-1, 2, '4'),\n",
       " 5: Text(1, 2, '5'),\n",
       " 6: Text(3, 2, '6'),\n",
       " 7: Text(-3, 1, 'tx1'),\n",
       " 8: Text(-1, 1, 'tx2'),\n",
       " 9: Text(1, 1, 'tx3'),\n",
       " 10: Text(3, 1, 'tx4')}"
      ]
     },
     "execution_count": 188,
     "metadata": {},
     "output_type": "execute_result"
    }
   ],
   "source": [
    "G = nx.Graph()\n",
    "positions = {}\n",
    "coordinates = [\n",
    "    [0, 4],\n",
    "    [-2, 3],\n",
    "    [2, 3],\n",
    "    [-3, 2],\n",
    "    [-1, 2],\n",
    "    [1, 2],\n",
    "    [3, 2],\n",
    "    [-3, 1],\n",
    "    [-1, 1],\n",
    "    [1, 1],\n",
    "    [3, 1]\n",
    "]\n",
    "parents = [0, 0, 0, 1, 1, 2, 2, 3, 4, 5, 6]\n",
    "for index in range(11):\n",
    "    G.add_node(index)\n",
    "    G.add_edge(index, parents[index])\n",
    "    positions[index] = coordinates[index]\n",
    "nx.draw(G, positions, node_size = 1000)\n",
    "labels = {\n",
    "    0: '0',\n",
    "    1: '1',\n",
    "    2: '2',\n",
    "    3: '3',\n",
    "    4: '4',\n",
    "    5: '5',\n",
    "    6: '6',\n",
    "    7: 'tx1',\n",
    "    8: 'tx2',\n",
    "    9: 'tx3',\n",
    "    10: 'tx4',\n",
    "}\n",
    "nx.draw_networkx_labels(G, positions, labels = labels)"
   ]
  },
  {
   "cell_type": "markdown",
   "metadata": {},
   "source": [
    "In Bitcoin double sha256 hash scheme is used. Here is an example."
   ]
  },
  {
   "cell_type": "code",
   "execution_count": 189,
   "metadata": {},
   "outputs": [
    {
     "name": "stdout",
     "output_type": "stream",
     "text": [
      "First hash represented as a hexadecimal number: 2cf24dba5fb0a30e26e83b2ac5b9e29e1b161e5c1fa7425e73043362938b9824\n",
      "Second hash represented as a hexadecimal number: 9595c9df90075148eb06860365df33584b75bff782a510c6cd4883a419833d50\n"
     ]
    }
   ],
   "source": [
    "import hashlib\n",
    "\n",
    "\n",
    "first_hash = hashlib.sha256(b\"hello\") # \"b\" stands for binary representation\n",
    "second_hash = hashlib.sha256()\n",
    "print('First hash represented as a hexadecimal number:', first_hash.hexdigest())\n",
    "second_hash.update(first_hash.digest())\n",
    "print('Second hash represented as a hexadecimal number:', second_hash.hexdigest())"
   ]
  },
  {
   "cell_type": "markdown",
   "metadata": {},
   "source": [
    "Now we can easily change vertices' labels to hashes of corresponding messages and plot new graph"
   ]
  },
  {
   "cell_type": "code",
   "execution_count": 190,
   "metadata": {},
   "outputs": [],
   "source": [
    "def bitcoin_hash(s):\n",
    "    s = str(s).encode('utf-8')\n",
    "    return hashlib.sha256(hashlib.sha256(s).digest()).hexdigest()"
   ]
  },
  {
   "cell_type": "code",
   "execution_count": 191,
   "metadata": {},
   "outputs": [
    {
     "name": "stdout",
     "output_type": "stream",
     "text": [
      "cce4324fe6e4db20ac482dbbe8ad672764cc8bcc303eed3b460212d096a90f03\n"
     ]
    }
   ],
   "source": [
    "labels[3] = bitcoin_hash(b\"tx1\")\n",
    "\n",
    "# and plot the graph again\n",
    "\n",
    "nx.draw(G, positions, node_size = 1000)\n",
    "nx.draw_networkx_labels(G, positions, labels = labels, font_size = 8)\n",
    "print(labels[3])"
   ]
  },
  {
   "cell_type": "markdown",
   "metadata": {},
   "source": [
    "1.Construct Merkle hash tree using previously constructed graph by finding corresponding SHA256 hashes on vertices (2 points). Plot obtained Merkle hash tree (1 point)"
   ]
  },
  {
   "cell_type": "code",
   "execution_count": 192,
   "metadata": {},
   "outputs": [],
   "source": [
    "labels[4] = bitcoin_hash(b\"tx2\")\n",
    "labels[5] = bitcoin_hash(b\"tx3\")\n",
    "labels[6] = bitcoin_hash(b\"tx4\")"
   ]
  },
  {
   "cell_type": "code",
   "execution_count": 193,
   "metadata": {},
   "outputs": [],
   "source": [
    "labels[1] = bitcoin_hash(labels[3] + labels[4])\n",
    "labels[2] = bitcoin_hash(labels[5] + labels[6])\n",
    "labels[0] = bitcoin_hash(labels[1] + labels[2])"
   ]
  },
  {
   "cell_type": "code",
   "execution_count": 194,
   "metadata": {},
   "outputs": [
    {
     "data": {
      "text/plain": [
       "{0: Text(0, 4, '917b01735e2cba808bd592d278124843a3036021fa1686513e13ebdfc5886cce'),\n",
       " 1: Text(-2, 3, '5dbf5a1e980a4073ad313983e05c33ac7c8396de81d9d00e292d4db9b7c35e07'),\n",
       " 2: Text(2, 3, '4852a5def31ddef20701d5c56ad58585efe5a3a22b1e46c2e8f5850d62c42e90'),\n",
       " 3: Text(-3, 2, 'cce4324fe6e4db20ac482dbbe8ad672764cc8bcc303eed3b460212d096a90f03'),\n",
       " 4: Text(-1, 2, 'a510a994957496a32c7fea49141b7adedfe205117142db675a68273fe3058dc9'),\n",
       " 5: Text(1, 2, '9c9a6b8260f419729dfc86b1058c4f5881c699292af6183e05f95f51f49531f5'),\n",
       " 6: Text(3, 2, '36d87c9b1bb7e42101cfc85ace37cce966af1d6906e4dc8ac48db12c51659e4a'),\n",
       " 7: Text(-3, 1, 'tx1'),\n",
       " 8: Text(-1, 1, 'tx2'),\n",
       " 9: Text(1, 1, 'tx3'),\n",
       " 10: Text(3, 1, 'tx4')}"
      ]
     },
     "execution_count": 194,
     "metadata": {},
     "output_type": "execute_result"
    }
   ],
   "source": [
    "nx.draw(G, positions, node_size = 1000)\n",
    "nx.draw_networkx_labels(G, positions, labels = labels, font_size = 8)"
   ]
  },
  {
   "cell_type": "markdown",
   "metadata": {},
   "source": [
    "2.Provide a proof of correctness of leaf tx2 (2 points). "
   ]
  },
  {
   "cell_type": "code",
   "execution_count": 203,
   "metadata": {},
   "outputs": [
    {
     "data": {
      "text/plain": [
       "True"
      ]
     },
     "execution_count": 203,
     "metadata": {},
     "output_type": "execute_result"
    }
   ],
   "source": [
    "labels[0] == bitcoin_hash(bitcoin_hash(labels[3]+bitcoin_hash(b\"tx2\")) + labels[2])"
   ]
  },
  {
   "cell_type": "markdown",
   "metadata": {},
   "source": [
    "3.Provide a proof of correctness for set of leafs (tx3-tx4) (2 points)"
   ]
  },
  {
   "cell_type": "code",
   "execution_count": 204,
   "metadata": {},
   "outputs": [
    {
     "data": {
      "text/plain": [
       "True"
      ]
     },
     "execution_count": 204,
     "metadata": {},
     "output_type": "execute_result"
    }
   ],
   "source": [
    "labels[0] == bitcoin_hash(labels[1] + bitcoin_hash(bitcoin_hash(b\"tx3\") + bitcoin_hash(b\"tx4\")))"
   ]
  },
  {
   "cell_type": "markdown",
   "metadata": {},
   "source": [
    "4.Change the value on leaf tx1 and recompute corresponding hashes. Plot newly obtained Merkle hash tree (2 points)"
   ]
  },
  {
   "cell_type": "code",
   "execution_count": 210,
   "metadata": {},
   "outputs": [],
   "source": [
    "labels[7] = 'tx1olol'\n",
    "labels[3] = bitcoin_hash(b\"tx1olol\")\n",
    "labels[4] = bitcoin_hash(b\"tx2\")\n",
    "labels[5] = bitcoin_hash(b\"tx3\")\n",
    "labels[6] = bitcoin_hash(b\"tx4\")"
   ]
  },
  {
   "cell_type": "code",
   "execution_count": 211,
   "metadata": {},
   "outputs": [],
   "source": [
    "labels[1] = bitcoin_hash(labels[3] + labels[4])\n",
    "labels[2] = bitcoin_hash(labels[5] + labels[6])\n",
    "labels[0] = bitcoin_hash(labels[1] + labels[2])"
   ]
  },
  {
   "cell_type": "code",
   "execution_count": 212,
   "metadata": {},
   "outputs": [
    {
     "data": {
      "text/plain": [
       "{0: Text(0, 4, '6810a02cfec33772ee14dc30b094f16329e4c320e51fdc321fad9d2197137cdf'),\n",
       " 1: Text(-2, 3, '6d97ba6d484990d1ed2516b85110457d980796c9d46ae2b563f10148b86d3b9a'),\n",
       " 2: Text(2, 3, '4852a5def31ddef20701d5c56ad58585efe5a3a22b1e46c2e8f5850d62c42e90'),\n",
       " 3: Text(-3, 2, 'f869ee683a57ed9bdf53973b121e4e4e698858ddfd611caffe78c995a68c3830'),\n",
       " 4: Text(-1, 2, 'a510a994957496a32c7fea49141b7adedfe205117142db675a68273fe3058dc9'),\n",
       " 5: Text(1, 2, '9c9a6b8260f419729dfc86b1058c4f5881c699292af6183e05f95f51f49531f5'),\n",
       " 6: Text(3, 2, '36d87c9b1bb7e42101cfc85ace37cce966af1d6906e4dc8ac48db12c51659e4a'),\n",
       " 7: Text(-3, 1, 'tx1olol'),\n",
       " 8: Text(-1, 1, 'tx2'),\n",
       " 9: Text(1, 1, 'tx3'),\n",
       " 10: Text(3, 1, 'tx4')}"
      ]
     },
     "execution_count": 212,
     "metadata": {},
     "output_type": "execute_result"
    }
   ],
   "source": [
    "nx.draw(G, positions, node_size = 1000)\n",
    "nx.draw_networkx_labels(G, positions, labels = labels, font_size = 8)"
   ]
  },
  {
   "cell_type": "markdown",
   "metadata": {},
   "source": [
    "5.Nodes in Merkle hash trees may have arbitrary fanout. In previouse items we consider the case of fanout equals to two. But what will change if we set a fanout equals to three? Construct Merkle hash trees with fanout 3 to sign 9 values? Construct the hash tree with fanout 2 to sign the same set of values? Plot obtained trees (4 points) "
   ]
  },
  {
   "cell_type": "markdown",
   "metadata": {},
   "source": [
    "Merkle tree is balanced, so there'll be more leaves in the bottom. Hence we don't have 9 values (we have only 4), tx4 we'll be used for the hash calculation on the right side of the tree"
   ]
  },
  {
   "cell_type": "code",
   "execution_count": 217,
   "metadata": {},
   "outputs": [
    {
     "name": "stderr",
     "output_type": "stream",
     "text": [
      "/home/dmitriy/MyEnv/other/skoltech/intro-to-blockchain/env/lib/python3.5/site-packages/networkx/drawing/nx_pylab.py:611: MatplotlibDeprecationWarning: isinstance(..., numbers.Number)\n",
      "  if cb.is_numlike(alpha):\n"
     ]
    },
    {
     "data": {
      "text/plain": [
       "{0: Text(0, 4, '0'),\n",
       " 1: Text(-3, 3, '1'),\n",
       " 2: Text(0, 3, '2'),\n",
       " 3: Text(3, 3, '3'),\n",
       " 4: Text(-4, 2, '4'),\n",
       " 5: Text(-3, 2, '5'),\n",
       " 6: Text(-2, 2, '6'),\n",
       " 7: Text(-1, 2, '7'),\n",
       " 8: Text(0, 2, '8'),\n",
       " 9: Text(1, 2, '9'),\n",
       " 10: Text(2, 2, '10'),\n",
       " 11: Text(3, 2, '11'),\n",
       " 12: Text(4, 2, '12'),\n",
       " 13: Text(-5, 1, 'tx1'),\n",
       " 14: Text(-4, 1, 'tx2'),\n",
       " 15: Text(-3, 1, 'tx3'),\n",
       " 16: Text(-2, 1, 'tx4'),\n",
       " 17: Text(-1, 1, 'tx5'),\n",
       " 18: Text(0, 1, 'tx6'),\n",
       " 19: Text(1, 1, 'tx7'),\n",
       " 20: Text(2, 1, 'tx8'),\n",
       " 21: Text(3, 1, 'tx9')}"
      ]
     },
     "execution_count": 217,
     "metadata": {},
     "output_type": "execute_result"
    }
   ],
   "source": [
    "G = nx.Graph()\n",
    "positions = {}\n",
    "coordinates = [\n",
    "    [0, 4],\n",
    "    [-3, 3],\n",
    "    [0, 3],\n",
    "    [3, 3],\n",
    "    [-4, 2],\n",
    "    [-3, 2],\n",
    "    [-2, 2],\n",
    "    [-1, 2],\n",
    "    [0, 2],\n",
    "    [1, 2],\n",
    "    [2, 2],\n",
    "    [3, 2],\n",
    "    [4, 2],\n",
    "    [-5, 1],\n",
    "    [-4, 1],\n",
    "    [-3, 1],\n",
    "    [-2, 1],\n",
    "    [-1, 1],\n",
    "    [0, 1],\n",
    "    [1, 1],\n",
    "    [2, 1],\n",
    "    [3, 1]\n",
    "]\n",
    "parents = [0, 0, 0, 0, 1, 1, 1, 2, 2, 2, 3, 3, 3, 4, 5, 6, 7, 8, 9, 10, 11, 12]\n",
    "for index in range(22):\n",
    "    G.add_node(index)\n",
    "    G.add_edge(index, parents[index])\n",
    "    positions[index] = coordinates[index]\n",
    "nx.draw(G, positions, node_size = 1000)\n",
    "labels = {\n",
    "    0: '0',\n",
    "    1: '1',\n",
    "    2: '2',\n",
    "    3: '3',\n",
    "    4: '4',\n",
    "    5: '5',\n",
    "    6: '6',\n",
    "    7: '7',\n",
    "    8: '8',\n",
    "    9: '9',\n",
    "    10: '10',\n",
    "    11: '11',\n",
    "    12: '12',\n",
    "    13: 'tx1',\n",
    "    14: 'tx2',\n",
    "    15: 'tx3',\n",
    "    16: 'tx4',\n",
    "    17: 'tx5',\n",
    "    18: 'tx6',\n",
    "    19: 'tx7',\n",
    "    20: 'tx8',\n",
    "    21: 'tx9',\n",
    "}\n",
    "nx.draw_networkx_labels(G, positions, labels = labels)"
   ]
  },
  {
   "cell_type": "code",
   "execution_count": 263,
   "metadata": {},
   "outputs": [
    {
     "data": {
      "text/plain": [
       "{0: Text(0, 4, '0'),\n",
       " 1: Text(-2, 3, '1'),\n",
       " 2: Text(2, 3, '2'),\n",
       " 3: Text(-3, 2, '3'),\n",
       " 4: Text(-1, 2, '4'),\n",
       " 5: Text(1, 2, '5'),\n",
       " 6: Text(3, 2, '6'),\n",
       " 7: Text(-4, 1, '7'),\n",
       " 8: Text(-3, 1, '8'),\n",
       " 9: Text(-2, 1, '9'),\n",
       " 10: Text(-1, 1, '10'),\n",
       " 11: Text(0, 1, '11'),\n",
       " 12: Text(1, 1, '12'),\n",
       " 13: Text(2, 1, '13'),\n",
       " 14: Text(3, 1, '14'),\n",
       " 15: Text(-4, 0, '15'),\n",
       " 16: Text(-3, 0, '16'),\n",
       " 17: Text(-2, 0, '17'),\n",
       " 18: Text(-1, 0, '18'),\n",
       " 19: Text(0, 0, '19'),\n",
       " 20: Text(1, 0, '20'),\n",
       " 21: Text(2, 0, '21'),\n",
       " 22: Text(3, 0, '22'),\n",
       " 23: Text(4, 0, '23'),\n",
       " 24: Text(5, 0, '24'),\n",
       " 25: Text(6, 0, '25'),\n",
       " 26: Text(7, 0, '26'),\n",
       " 27: Text(8, 0, '27'),\n",
       " 28: Text(9, 0, '28'),\n",
       " 29: Text(10, 0, '29'),\n",
       " 30: Text(11, 0, '30'),\n",
       " 31: Text(0, -2, 'tx1'),\n",
       " 32: Text(1, -2, 'tx2'),\n",
       " 33: Text(2, -2, 'tx3'),\n",
       " 34: Text(3, -2, 'tx4'),\n",
       " 35: Text(4, -2, 'tx5'),\n",
       " 36: Text(5, -2, 'tx6'),\n",
       " 37: Text(6, -2, 'tx7'),\n",
       " 38: Text(7, -2, 'tx8'),\n",
       " 39: Text(8, -2, 'tx9')}"
      ]
     },
     "execution_count": 263,
     "metadata": {},
     "output_type": "execute_result"
    }
   ],
   "source": [
    "G = nx.Graph()\n",
    "positions = {}\n",
    "coordinates = [\n",
    "    [0, 4],\n",
    "    [-2, 3],\n",
    "    [2, 3],\n",
    "    [-3, 2],\n",
    "    [-1, 2],\n",
    "    [1, 2],\n",
    "    [3, 2],\n",
    "    [-4, 1],\n",
    "    [-3, 1],\n",
    "    [-2, 1],\n",
    "    [-1, 1],\n",
    "    [0, 1],\n",
    "    [1, 1],\n",
    "    [2, 1],\n",
    "    [3, 1],\n",
    "    [-4, 0],\n",
    "    [-3, 0],\n",
    "    [-2, 0],\n",
    "    [-1, 0],\n",
    "    [0, 0],\n",
    "    [1, 0],\n",
    "    [2, 0],\n",
    "    [3, 0],\n",
    "    [4, 0],\n",
    "    [5, 0],\n",
    "    [6, 0],\n",
    "    [7, 0],\n",
    "    [8, 0],\n",
    "    [9, 0],\n",
    "    [10, 0],\n",
    "    [11, 0],\n",
    "    [0, -2],\n",
    "    [1, -2],\n",
    "    [2, -2],\n",
    "    [3, -2],\n",
    "    [4, -2],\n",
    "    [5, -2],\n",
    "    [6, -2],\n",
    "    [7, -2],\n",
    "    [8, -2]\n",
    "]\n",
    "parents = [0, 0, 0, 1, 1, 2, 2, 3, 3, 4, 4, 5, 5, 6, 6, 7, 7, 8, 8, 9, 9, 10, 10, 11, 11, 12, 12, 13, 13, 14, 14, 15, 16, 17, 18, 19, 20, 21, 22, 23]\n",
    "for index in range(40):\n",
    "    G.add_node(index)\n",
    "    G.add_edge(index, parents[index])\n",
    "    positions[index] = coordinates[index]\n",
    "nx.draw(G, positions, node_size = 1000)\n",
    "labels = {\n",
    "    0: '0',\n",
    "    1: '1',\n",
    "    2: '2',\n",
    "    3: '3',\n",
    "    4: '4',\n",
    "    5: '5',\n",
    "    6: '6',\n",
    "    7: '7',\n",
    "    8: '8',\n",
    "    9: '9',\n",
    "    10: '10',\n",
    "    11: '11',\n",
    "    12: '12',\n",
    "    13: '13',\n",
    "    14: '14',\n",
    "    15: '15',\n",
    "    16: '16',\n",
    "    17: '17',\n",
    "    18: '18',\n",
    "    19: '19',\n",
    "    20: '20',\n",
    "    21: '21',\n",
    "    22: '22',\n",
    "    23: '23',\n",
    "    24: '24',\n",
    "    25: '25',\n",
    "    26: '26',\n",
    "    27: '27',\n",
    "    28: '28',\n",
    "    29: '29',\n",
    "    30: '30',\n",
    "    31: 'tx1',\n",
    "    32: 'tx2',\n",
    "    33: 'tx3',\n",
    "    34: 'tx4',\n",
    "    35: 'tx5',\n",
    "    36: 'tx6',\n",
    "    37: 'tx7',\n",
    "    38: 'tx8',\n",
    "    39: 'tx9',\n",
    "}\n",
    "nx.draw_networkx_labels(G, positions, labels = labels)"
   ]
  },
  {
   "cell_type": "markdown",
   "metadata": {},
   "source": [
    "Note that **tx9** will be copied to nodes on the right side when we'll start to calculate hashes"
   ]
  },
  {
   "cell_type": "markdown",
   "metadata": {},
   "source": [
    "6.What is the optimum tree fanout for signing first 4 values in the set up of previous item? (2 points)"
   ]
  },
  {
   "cell_type": "markdown",
   "metadata": {},
   "source": [
    "We definetely have to calculate 4 hashes of the values. Also we'll have to make hash calculation for some concatenated value from the other parts. So we can't make less than 5 hash calculation operations.\n",
    "\n",
    "The answer is **9**. In this case we'll have to calculate hash exactly 5 times. \n",
    "$$bitcoinhash(bitcoinhash(tx1)+bitcoinhash(tx2) + bitcoinhash(tx3)+bitcoinhash(tx4) + hash_{15} + hash_{16} + hash_{17} + hash_{18} + hash_{19})$$"
   ]
  }
 ],
 "metadata": {
  "kernelspec": {
   "display_name": "Python 3",
   "language": "python",
   "name": "python3"
  },
  "language_info": {
   "codemirror_mode": {
    "name": "ipython",
    "version": 3
   },
   "file_extension": ".py",
   "mimetype": "text/x-python",
   "name": "python",
   "nbconvert_exporter": "python",
   "pygments_lexer": "ipython3",
   "version": "3.5.2"
  }
 },
 "nbformat": 4,
 "nbformat_minor": 2
}
